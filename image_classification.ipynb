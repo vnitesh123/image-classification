{
  "nbformat": 4,
  "nbformat_minor": 0,
  "metadata": {
    "colab": {
      "provenance": []
    },
    "kernelspec": {
      "name": "python3",
      "display_name": "Python 3"
    },
    "language_info": {
      "name": "python"
    }
  },
  "cells": [
    {
      "cell_type": "markdown",
      "source": [
        "Mounting the drive for dataset"
      ],
      "metadata": {
        "id": "iRJQaUSe2VkN"
      }
    },
    {
      "cell_type": "code",
      "source": [
        "\n",
        "from google.colab import drive\n",
        "drive.mount('/content/drive')\n",
        "\n",
        "\n",
        "# replace the file path with the path where your data is present\n",
        "_, _, files = next(os.walk(\"/content/drive/My Drive/dataset\"))\n",
        "file_count = len(files)\n",
        "\n",
        "\n"
      ],
      "metadata": {
        "colab": {
          "base_uri": "https://localhost:8080/"
        },
        "id": "9-41KVRTDlTA",
        "outputId": "8fbebee8-db91-44bc-d48b-b00ecffefb84"
      },
      "execution_count": 2,
      "outputs": [
        {
          "output_type": "stream",
          "name": "stdout",
          "text": [
            "Drive already mounted at /content/drive; to attempt to forcibly remount, call drive.mount(\"/content/drive\", force_remount=True).\n"
          ]
        }
      ]
    },
    {
      "cell_type": "markdown",
      "source": [
        "Getting the file count"
      ],
      "metadata": {
        "id": "80_Dztb426Lw"
      }
    },
    {
      "cell_type": "code",
      "source": [
        "_, _, files = next(os.walk(\"/content/drive/My Drive/dataset/globally_sclerotic_glomeruli\"))\n",
        "file_count = len(files)\n",
        "print(file_count)\n",
        "_, _, files1 = next(os.walk(\"/content/drive/My Drive/dataset/non_globally_sclerotic_glomeruli\"))\n",
        "file_count_1 = len(files1)\n",
        "print(file_count_1)"
      ],
      "metadata": {
        "colab": {
          "base_uri": "https://localhost:8080/"
        },
        "id": "fW8GStEZEEK5",
        "outputId": "e8ec247f-09b3-4633-c9f1-6031666c91f7"
      },
      "execution_count": 3,
      "outputs": [
        {
          "output_type": "stream",
          "name": "stdout",
          "text": [
            "1054\n",
            "4704\n"
          ]
        }
      ]
    },
    {
      "cell_type": "markdown",
      "source": [
        "Loading the dataset csv file"
      ],
      "metadata": {
        "id": "Vj6h1IYN3Jcg"
      }
    },
    {
      "cell_type": "code",
      "source": [
        "import pandas as pd\n",
        "\n",
        "df = pd.read_csv('/content/drive/My Drive/dataset/public.csv')"
      ],
      "metadata": {
        "id": "PWpEgEY-bSFR"
      },
      "execution_count": 4,
      "outputs": []
    },
    {
      "cell_type": "code",
      "source": [
        "print(df.head())"
      ],
      "metadata": {
        "colab": {
          "base_uri": "https://localhost:8080/"
        },
        "id": "vUa7F5W4bsnd",
        "outputId": "82538409-8c2f-495c-bdc7-82b7e5d8fba8"
      },
      "execution_count": 5,
      "outputs": [
        {
          "output_type": "stream",
          "name": "stdout",
          "text": [
            "                                                name  ground truth\n",
            "0  S-2006-005094_PAS_1of2_64552732435c92704a3d37c...             0\n",
            "1  S-2006-005094_PAS_1of2_64552732435c92704a3d37c...             0\n",
            "2  S-2006-005094_PAS_1of2_64552732435c92704a3d37c...             0\n",
            "3  S-2006-005094_PAS_1of2_64552732435c92704a3d37c...             0\n",
            "4  S-2006-005094_PAS_1of2_64552732435c92704a3d37d...             0\n"
          ]
        }
      ]
    },
    {
      "cell_type": "code",
      "source": [
        "print(df.columns)"
      ],
      "metadata": {
        "colab": {
          "base_uri": "https://localhost:8080/"
        },
        "id": "TN7cg20ebvty",
        "outputId": "39a52733-feca-4820-9b1e-65cd2374c206"
      },
      "execution_count": 6,
      "outputs": [
        {
          "output_type": "stream",
          "name": "stdout",
          "text": [
            "Index(['name', 'ground truth'], dtype='object')\n"
          ]
        }
      ]
    },
    {
      "cell_type": "markdown",
      "source": [
        "Splitting the the dataset into train, validation and test datasets with seperate directories for each category of images"
      ],
      "metadata": {
        "id": "rVddcgCxp4hr"
      }
    },
    {
      "cell_type": "code",
      "source": [
        "import os\n",
        "import shutil\n",
        "import pandas as pd\n",
        "from sklearn.model_selection import train_test_split\n",
        "\n",
        "# Directories containing images for each class\n",
        "class1_dir = '/content/drive/My Drive/dataset/globally_sclerotic_glomeruli'\n",
        "class0_dir = '/content/drive/My Drive/dataset/non_globally_sclerotic_glomeruli'\n",
        "\n",
        "# Reading the CSV file into a DataFrame\n",
        "data = pd.read_csv('/content/drive/My Drive/dataset/public.csv')\n",
        "\n",
        "# Shuffling the data frame\n",
        "data = data.sample(frac=1).reset_index(drop=True)\n",
        "\n",
        "# Spliting the DataFrame into training, validation, and test sets\n",
        "train_data, test_data = train_test_split(data, test_size=0.2, random_state=42, stratify=data['ground truth'])\n",
        "train_data, val_data = train_test_split(train_data, test_size=0.25, random_state=42, stratify=train_data['ground truth'])\n",
        "\n",
        "# Create directories for train, validation, and test data split\n",
        "train_dir = 'train'\n",
        "val_dir = 'validation'\n",
        "test_dir = 'test'\n",
        "os.makedirs(train_dir, exist_ok=True)\n",
        "os.makedirs(val_dir, exist_ok=True)\n",
        "os.makedirs(test_dir, exist_ok=True)\n",
        "\n",
        "# Moving the images to respective directories\n",
        "def move_images(data, destination_dir):\n",
        "    for index, row in data.iterrows():\n",
        "        if row['ground truth'] == 0:\n",
        "            source_dir = class0_dir\n",
        "        else:\n",
        "            source_dir = class1_dir\n",
        "\n",
        "        source_path = os.path.join(source_dir, row['name'])\n",
        "        destination_path = os.path.join(destination_dir, str(row['ground truth']), row['name'])\n",
        "\n",
        "        # Create directories if they don't exist for each ground truth class\n",
        "        os.makedirs(os.path.join(destination_dir, str(row['ground truth'])), exist_ok=True)\n",
        "\n",
        "        # Move the image\n",
        "        shutil.copy(source_path, destination_path)\n",
        "\n",
        "# Move images to their respective directories for train, validation, and test data sets\n",
        "move_images(train_data, train_dir)\n",
        "move_images(val_data, val_dir)\n",
        "move_images(test_data, test_dir)\n"
      ],
      "metadata": {
        "id": "F_a6x5hh3YHL"
      },
      "execution_count": 7,
      "outputs": []
    },
    {
      "cell_type": "code",
      "source": [
        "train_data.to_csv('train_data.csv', index=False)"
      ],
      "metadata": {
        "id": "CEZ8Xrxl8fIM"
      },
      "execution_count": 8,
      "outputs": []
    },
    {
      "cell_type": "code",
      "source": [
        "test_data.to_csv('test_data.csv', index=False)"
      ],
      "metadata": {
        "id": "08QQmRp_5oif"
      },
      "execution_count": 9,
      "outputs": []
    },
    {
      "cell_type": "code",
      "source": [
        "val_data.to_csv('val_data.csv', index=False)"
      ],
      "metadata": {
        "id": "UEpraUtZ_9sF"
      },
      "execution_count": 10,
      "outputs": []
    },
    {
      "cell_type": "code",
      "source": [
        "x = pd.read_csv('train_data.csv')"
      ],
      "metadata": {
        "id": "T_KDrL1lAK9S"
      },
      "execution_count": 13,
      "outputs": []
    },
    {
      "cell_type": "code",
      "source": [
        "value_counts = x['ground truth'].value_counts()\n",
        "print(value_counts)"
      ],
      "metadata": {
        "colab": {
          "base_uri": "https://localhost:8080/"
        },
        "id": "gb40b90xAR01",
        "outputId": "8eb36c57-f669-4c22-ec4a-cfa438b73535"
      },
      "execution_count": 15,
      "outputs": [
        {
          "output_type": "stream",
          "name": "stdout",
          "text": [
            "0    2822\n",
            "1     632\n",
            "Name: ground truth, dtype: int64\n"
          ]
        }
      ]
    },
    {
      "cell_type": "markdown",
      "source": [
        "If we see above, the data is little imbalanced with class - 0 data points which is non_globally_sclerotic_glomeruli are 2822 and with class 1 are 632. To handle this problem, I have added augmentation to class 1 images in the further parts of the code"
      ],
      "metadata": {
        "id": "PrNU9YBi9W7a"
      }
    },
    {
      "cell_type": "code",
      "source": [
        "import tensorflow as tf\n",
        "from keras.models import Sequential\n",
        "from tensorflow.keras.layers import Conv2D, MaxPooling2D, Flatten, Dense\n",
        "from tensorflow.keras.optimizers import Adam\n",
        "from keras.preprocessing.image import ImageDataGenerator\n",
        "from keras.utils import Sequence\n",
        "from itertools import chain\n",
        "\n",
        "# training generator for class_0\n",
        "train_datagen_0 = ImageDataGenerator(rescale=1./255)\n",
        "\n",
        "\n",
        "train_generator_0 = train_datagen_0.flow_from_directory(\n",
        "        'train/',\n",
        "        classes = ['0'],\n",
        "        target_size=(128, 128),\n",
        "        batch_size=32,\n",
        "        class_mode='binary')\n",
        "\n",
        "# training generator for class_1 with augmentation\n",
        "train_datagen_1 = ImageDataGenerator(rescale=1./255,horizontal_flip=True,rotation_range=90,vertical_flip=True)\n",
        "\n",
        "\n",
        "train_generator_1 = train_datagen_1.flow_from_directory(\n",
        "        'train/',\n",
        "        classes = ['1'],\n",
        "        target_size=(128, 128),\n",
        "        batch_size=32,\n",
        "        class_mode='binary')\n",
        "\n",
        "def combined_generator(augmented_generator, original_generator):\n",
        "    while True:\n",
        "        augmented_data = next(augmented_generator)\n",
        "        original_data = next(original_generator)\n",
        "        # Concatenate the augmented and original data\n",
        "        X_combined = np.concatenate([augmented_data[0], original_data[0]])\n",
        "        y_augmented = augmented_data[1]\n",
        "        y_original = original_data[1]\n",
        "        # adjusting the value of label as the image datagenerator takes the label as 0 if only one class is provided\n",
        "        y_augmented += 1\n",
        "        y_combined = np.concatenate([y_augmented, y_original])\n",
        "        yield X_combined, y_combined\n",
        "\n",
        "train_generator = combined_generator(train_generator_1, train_generator_0)\n",
        "\n",
        "\n",
        "# For validation\n",
        "val_datagen = ImageDataGenerator(rescale=1./255)\n",
        "\n",
        "val_generator = val_datagen.flow_from_directory(\n",
        "        'validation/',\n",
        "        classes = ['0', '1'],\n",
        "        target_size=(128, 128),\n",
        "        batch_size=32,\n",
        "        class_mode='binary')\n"
      ],
      "metadata": {
        "colab": {
          "base_uri": "https://localhost:8080/"
        },
        "id": "0nYMnaOVRZfi",
        "outputId": "fe10ecf1-72cf-4b6c-93f7-4a7753b6b05e"
      },
      "execution_count": 71,
      "outputs": [
        {
          "output_type": "stream",
          "name": "stdout",
          "text": [
            "Found 2822 images belonging to 1 classes.\n",
            "Found 632 images belonging to 1 classes.\n",
            "Found 1152 images belonging to 2 classes.\n"
          ]
        }
      ]
    },
    {
      "cell_type": "code",
      "source": [
        "import tensorflow as tf\n",
        "import numpy as np\n",
        "from itertools import cycle\n",
        "\n",
        "from sklearn import svm, datasets\n",
        "from sklearn.metrics import roc_curve, auc\n",
        "from sklearn.model_selection import train_test_split\n",
        "from sklearn.preprocessing import label_binarize\n",
        "from sklearn.multiclass import OneVsRestClassifier\n",
        "from scipy import interp\n",
        "from sklearn.metrics import roc_auc_score"
      ],
      "metadata": {
        "id": "lM80KkjEaflA"
      },
      "execution_count": 72,
      "outputs": []
    },
    {
      "cell_type": "markdown",
      "source": [
        "Create a Sequential model using keras for training are CNN model"
      ],
      "metadata": {
        "id": "xDFPC-Wh-tZW"
      }
    },
    {
      "cell_type": "code",
      "source": [
        "\n",
        "\n",
        "model = Sequential([\n",
        "    Conv2D(32, kernel_size=(3, 3), activation='relu', input_shape=(128, 128, 3)),\n",
        "    MaxPooling2D(pool_size=(2, 2)),\n",
        "    Conv2D(64, kernel_size=(3, 3), activation='relu'),\n",
        "    MaxPooling2D(pool_size=(2, 2)),\n",
        "    Flatten(),\n",
        "    Dense(64, activation='relu'),\n",
        "    Dense(1, activation='sigmoid'),\n",
        "])"
      ],
      "metadata": {
        "id": "QHE7K6bjTwec"
      },
      "execution_count": 73,
      "outputs": []
    },
    {
      "cell_type": "code",
      "source": [
        "model.summary()"
      ],
      "metadata": {
        "colab": {
          "base_uri": "https://localhost:8080/"
        },
        "id": "jdBcRczLSgig",
        "outputId": "2e029917-a9a8-412f-c9f7-f7fa014d9e42"
      },
      "execution_count": 74,
      "outputs": [
        {
          "output_type": "stream",
          "name": "stdout",
          "text": [
            "Model: \"sequential_8\"\n",
            "_________________________________________________________________\n",
            " Layer (type)                Output Shape              Param #   \n",
            "=================================================================\n",
            " conv2d_10 (Conv2D)          (None, 126, 126, 32)      896       \n",
            "                                                                 \n",
            " max_pooling2d_10 (MaxPooli  (None, 63, 63, 32)        0         \n",
            " ng2D)                                                           \n",
            "                                                                 \n",
            " conv2d_11 (Conv2D)          (None, 61, 61, 64)        18496     \n",
            "                                                                 \n",
            " max_pooling2d_11 (MaxPooli  (None, 30, 30, 64)        0         \n",
            " ng2D)                                                           \n",
            "                                                                 \n",
            " flatten_8 (Flatten)         (None, 57600)             0         \n",
            "                                                                 \n",
            " dense_16 (Dense)            (None, 64)                3686464   \n",
            "                                                                 \n",
            " dense_17 (Dense)            (None, 1)                 65        \n",
            "                                                                 \n",
            "=================================================================\n",
            "Total params: 3705921 (14.14 MB)\n",
            "Trainable params: 3705921 (14.14 MB)\n",
            "Non-trainable params: 0 (0.00 Byte)\n",
            "_________________________________________________________________\n"
          ]
        }
      ]
    },
    {
      "cell_type": "code",
      "source": [
        "model.compile(optimizer='adam',\n",
        "              loss='binary_crossentropy',\n",
        "              metrics=['accuracy'])"
      ],
      "metadata": {
        "id": "A0Ol0pELayqK"
      },
      "execution_count": 75,
      "outputs": []
    },
    {
      "cell_type": "code",
      "source": [
        "_, _, files0 = next(os.walk(\"train/0\"))\n",
        "file_count_0 = len(files0)\n",
        "_, _, files1 = next(os.walk(\"train/1\"))\n",
        "file_count_1 = len(files1)\n",
        "sample_count_train = file_count_0 + file_count_1\n",
        "print(sample_count_train)\n",
        "\n",
        "_, _, files0 = next(os.walk(\"validation/0\"))\n",
        "file_count_0 = len(files0)\n",
        "_, _, files1 = next(os.walk(\"validation/1\"))\n",
        "file_count_1 = len(files1)\n",
        "sample_count_val = file_count_0 + file_count_1\n",
        "print(sample_count_val)"
      ],
      "metadata": {
        "colab": {
          "base_uri": "https://localhost:8080/"
        },
        "id": "dcdXCriW_K8L",
        "outputId": "1e8382fc-75d7-4410-9c08-f573a7318cd6"
      },
      "execution_count": 76,
      "outputs": [
        {
          "output_type": "stream",
          "name": "stdout",
          "text": [
            "3454\n",
            "1152\n"
          ]
        }
      ]
    },
    {
      "cell_type": "code",
      "source": [
        "\n",
        "batch_size = 32\n",
        "epochs = 5\n",
        "\n",
        "\n",
        "history = model.fit(\n",
        "    train_generator,\n",
        "    steps_per_epoch = sample_count_train // batch_size,\n",
        "    epochs=epochs,\n",
        "    validation_data=val_generator,\n",
        "    validation_steps= sample_count_val // batch_size)"
      ],
      "metadata": {
        "colab": {
          "base_uri": "https://localhost:8080/"
        },
        "id": "ksvrCfMFa63f",
        "outputId": "e4551094-0ebc-418c-de5a-e6604ac12b68"
      },
      "execution_count": 77,
      "outputs": [
        {
          "output_type": "stream",
          "name": "stdout",
          "text": [
            "Epoch 1/5\n",
            "107/107 [==============================] - 448s 4s/step - loss: 0.3179 - accuracy: 0.8645 - val_loss: 0.2886 - val_accuracy: 0.8993\n",
            "Epoch 2/5\n",
            "107/107 [==============================] - 423s 4s/step - loss: 0.0999 - accuracy: 0.9630 - val_loss: 0.5320 - val_accuracy: 0.8585\n",
            "Epoch 3/5\n",
            "107/107 [==============================] - 439s 4s/step - loss: 0.0759 - accuracy: 0.9728 - val_loss: 0.3495 - val_accuracy: 0.8941\n",
            "Epoch 4/5\n",
            "107/107 [==============================] - 414s 4s/step - loss: 0.0491 - accuracy: 0.9847 - val_loss: 0.4792 - val_accuracy: 0.8646\n",
            "Epoch 5/5\n",
            "107/107 [==============================] - 414s 4s/step - loss: 0.0358 - accuracy: 0.9896 - val_loss: 0.4641 - val_accuracy: 0.8811\n"
          ]
        }
      ]
    },
    {
      "cell_type": "markdown",
      "source": [
        "Prepare test data generator"
      ],
      "metadata": {
        "id": "7BPEhjjYj2z9"
      }
    },
    {
      "cell_type": "code",
      "source": [
        "\n",
        "test_datagen = ImageDataGenerator(rescale=1./255)\n",
        "\n",
        "test_generator = test_datagen.flow_from_directory(\n",
        "        'test/',\n",
        "        classes = ['0', '1'],\n",
        "        target_size=(128, 128),\n",
        "        batch_size=32,\n",
        "        class_mode='binary')"
      ],
      "metadata": {
        "colab": {
          "base_uri": "https://localhost:8080/"
        },
        "id": "FlNTxEb4f5Xk",
        "outputId": "ccc4ef77-ca83-4aef-acd6-5890603c6a15"
      },
      "execution_count": 78,
      "outputs": [
        {
          "output_type": "stream",
          "name": "stdout",
          "text": [
            "Found 1152 images belonging to 2 classes.\n"
          ]
        }
      ]
    },
    {
      "cell_type": "code",
      "source": [
        "y_pred = model.predict(test_generator, verbose=1)"
      ],
      "metadata": {
        "id": "0I_lorYTbif6",
        "colab": {
          "base_uri": "https://localhost:8080/"
        },
        "outputId": "146c86f7-5b1f-4c13-876c-4f73dc8dad04"
      },
      "execution_count": 79,
      "outputs": [
        {
          "output_type": "stream",
          "name": "stdout",
          "text": [
            "36/36 [==============================] - 63s 2s/step\n"
          ]
        }
      ]
    },
    {
      "cell_type": "code",
      "source": [
        "y_pred"
      ],
      "metadata": {
        "colab": {
          "base_uri": "https://localhost:8080/"
        },
        "id": "9QMHOI_hwyYh",
        "outputId": "b2446201-37b6-4e2b-a100-6da27c8339b8"
      },
      "execution_count": 80,
      "outputs": [
        {
          "output_type": "execute_result",
          "data": {
            "text/plain": [
              "array([[7.9187989e-02],\n",
              "       [1.8940609e-08],\n",
              "       [6.0304844e-11],\n",
              "       ...,\n",
              "       [2.0553985e-09],\n",
              "       [3.1824253e-04],\n",
              "       [4.8855829e-05]], dtype=float32)"
            ]
          },
          "metadata": {},
          "execution_count": 80
        }
      ]
    },
    {
      "cell_type": "markdown",
      "source": [
        "Converting prediction probabilities into binary classification by using a threshold of 0.5"
      ],
      "metadata": {
        "id": "Ra_hrmX4j9l4"
      }
    },
    {
      "cell_type": "code",
      "source": [
        "model.evaluate(test_generator)"
      ],
      "metadata": {
        "colab": {
          "base_uri": "https://localhost:8080/"
        },
        "id": "y8JLpfP-kaiR",
        "outputId": "bc116bab-a74b-4231-c019-aaddc2ebedee"
      },
      "execution_count": 85,
      "outputs": [
        {
          "output_type": "stream",
          "name": "stdout",
          "text": [
            "36/36 [==============================] - 55s 2s/step - loss: 0.4876 - accuracy: 0.8733\n"
          ]
        },
        {
          "output_type": "execute_result",
          "data": {
            "text/plain": [
              "[0.48764345049858093, 0.8732638955116272]"
            ]
          },
          "metadata": {},
          "execution_count": 85
        }
      ]
    },
    {
      "cell_type": "code",
      "source": [
        "binary_predictions = np.where(y_pred > 0.5, 1, 0)"
      ],
      "metadata": {
        "id": "lCLttEc0xoX2"
      },
      "execution_count": 81,
      "outputs": []
    },
    {
      "cell_type": "markdown",
      "source": [
        "Confusion matrix to evaluate the predictions"
      ],
      "metadata": {
        "id": "U2HMg9aykOJj"
      }
    },
    {
      "cell_type": "code",
      "source": [
        "from sklearn.metrics import confusion_matrix\n",
        "\n",
        "\n",
        "conf_matrix = confusion_matrix(test_generator.classes, binary_predictions)"
      ],
      "metadata": {
        "id": "dvEJPqbFwkFc"
      },
      "execution_count": 82,
      "outputs": []
    },
    {
      "cell_type": "code",
      "source": [
        "print(conf_matrix)"
      ],
      "metadata": {
        "colab": {
          "base_uri": "https://localhost:8080/"
        },
        "id": "szlQqUPJspcu",
        "outputId": "3873329e-468a-4ed2-af9f-447b1f965789"
      },
      "execution_count": 83,
      "outputs": [
        {
          "output_type": "stream",
          "name": "stdout",
          "text": [
            "[[881  60]\n",
            " [192  19]]\n"
          ]
        }
      ]
    },
    {
      "cell_type": "code",
      "source": [
        "import matplotlib.pyplot as plt\n",
        "import seaborn as sns\n",
        "\n",
        "labels = ['non_globally_sclerotic_glomeruli', 'globally_sclerotic_glomeruli']\n",
        "\n",
        "plt.figure(figsize=(8, 6))\n",
        "sns.heatmap(conf_matrix, annot=True, fmt=\"d\", cmap=\"Reds\", xticklabels=labels, yticklabels=labels)\n",
        "plt.xlabel('Predicted labels')\n",
        "plt.ylabel('True labels')\n",
        "plt.title('Confusion Matrix')\n",
        "plt.show()"
      ],
      "metadata": {
        "colab": {
          "base_uri": "https://localhost:8080/",
          "height": 564
        },
        "id": "1F6635emsyZY",
        "outputId": "a2778b4a-6457-47c1-aca4-9765133de857"
      },
      "execution_count": 84,
      "outputs": [
        {
          "output_type": "display_data",
          "data": {
            "text/plain": [
              "<Figure size 800x600 with 2 Axes>"
            ],
            "image/png": "[encoded data removed]"
          },
          "metadata": {}
        }
      ]
    },
    {
      "cell_type": "code",
      "source": [
        "model.evaluate(test_generator)"
      ],
      "metadata": {
        "colab": {
          "base_uri": "https://localhost:8080/"
        },
        "id": "QZobb67kuPAV",
        "outputId": "0add866c-40f8-4092-9700-3e2f672d0e5a"
      },
      "execution_count": 70,
      "outputs": [
        {
          "output_type": "stream",
          "name": "stdout",
          "text": [
            "36/36 [==============================] - 50s 1s/step - loss: 0.3319 - accuracy: 0.8967\n"
          ]
        },
        {
          "output_type": "execute_result",
          "data": {
            "text/plain": [
              "[0.3318663239479065, 0.8967013955116272]"
            ]
          },
          "metadata": {},
          "execution_count": 70
        }
      ]
    },
    {
      "cell_type": "markdown",
      "source": [
        "Saving the model"
      ],
      "metadata": {
        "id": "eO1n__uoqJER"
      }
    },
    {
      "cell_type": "code",
      "source": [
        "# Save the weights\n",
        "model.save_weights('model_weights.h5')"
      ],
      "metadata": {
        "id": "fQGADjNCy7W9"
      },
      "execution_count": 86,
      "outputs": []
    },
    {
      "cell_type": "markdown",
      "source": [
        "Loading the saved model weights"
      ],
      "metadata": {
        "id": "Wp7ibV-nqHvH"
      }
    },
    {
      "cell_type": "code",
      "source": [
        "model_new = Sequential([\n",
        "    Conv2D(32, kernel_size=(3, 3), activation='relu', input_shape=(128, 128, 3)),\n",
        "    MaxPooling2D(pool_size=(2, 2)),\n",
        "    Conv2D(64, kernel_size=(3, 3), activation='relu'),\n",
        "    MaxPooling2D(pool_size=(2, 2)),\n",
        "    Flatten(),\n",
        "    Dense(64, activation='relu'),\n",
        "    Dense(1, activation='sigmoid'),\n",
        "])"
      ],
      "metadata": {
        "id": "k4htB-hMmBwz"
      },
      "execution_count": 93,
      "outputs": []
    },
    {
      "cell_type": "code",
      "source": [
        "model_new.load_weights('model_weights.h5')"
      ],
      "metadata": {
        "id": "qgm3TDmioVEL"
      },
      "execution_count": 94,
      "outputs": []
    },
    {
      "cell_type": "code",
      "source": [
        "model_new.compile(optimizer='adam',\n",
        "              loss='binary_crossentropy',\n",
        "              metrics=['accuracy'])"
      ],
      "metadata": {
        "id": "0XDrLECeosEu"
      },
      "execution_count": 98,
      "outputs": []
    },
    {
      "cell_type": "code",
      "source": [
        "loss, accuracy = model_new.evaluate(test_generator)\n",
        "\n",
        "print(\"Test Loss:\", loss)\n",
        "print(\"Test Accuracy:\", accuracy)"
      ],
      "metadata": {
        "colab": {
          "base_uri": "https://localhost:8080/"
        },
        "id": "onq1PuBcoemB",
        "outputId": "1c6acc24-f5b3-4635-8e34-fe794d4e831b"
      },
      "execution_count": 99,
      "outputs": [
        {
          "output_type": "stream",
          "name": "stdout",
          "text": [
            "36/36 [==============================] - 58s 2s/step - loss: 0.4876 - accuracy: 0.8733\n",
            "Test Loss: 0.4876435697078705\n",
            "Test Accuracy: 0.8732638955116272\n"
          ]
        }
      ]
    }
  ]
}